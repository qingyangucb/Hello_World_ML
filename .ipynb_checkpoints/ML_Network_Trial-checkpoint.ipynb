{
 "cells": [
  {
   "cell_type": "code",
   "execution_count": 1,
   "metadata": {},
   "outputs": [
    {
     "name": "stderr",
     "output_type": "stream",
     "text": [
      "Using TensorFlow backend.\n"
     ]
    }
   ],
   "source": [
    "from generateFunctions import generateSamples, generateAnswer, generateThetas\n",
    "from keras.utils import to_categorical\n",
    "from scipy.special import softmax\n",
    "import numpy as np"
   ]
  },
  {
   "cell_type": "code",
   "execution_count": 2,
   "metadata": {},
   "outputs": [],
   "source": [
    "# thetas = [generateThetas()]\n",
    "directions = [[0,1],[0,-1],[1,0],[-1,0]]\n",
    "x,y=generateSamples(50000)\n",
    "answers = generateAnswer(x,y,directions)\n",
    "answers_cat = to_categorical(answers)"
   ]
  },
  {
   "cell_type": "code",
   "execution_count": 3,
   "metadata": {},
   "outputs": [],
   "source": [
    "# thetas = np.array([[2,3],[2,-4],[6,2],[-3,1]])\n",
    "thetas = generateThetas()"
   ]
  },
  {
   "cell_type": "code",
   "execution_count": 4,
   "metadata": {},
   "outputs": [],
   "source": [
    "xy = np.column_stack((x,y))\n",
    "z = np.matmul(xy, np.transpose(thetas))\n",
    "# a = softmax(z)\n",
    "# error = a - answer\n"
   ]
  },
  {
   "cell_type": "code",
   "execution_count": 5,
   "metadata": {},
   "outputs": [
    {
     "data": {
      "text/plain": [
       "array([[0., 0., 1., 0.],\n",
       "       [1., 0., 0., 0.],\n",
       "       [0., 0., 0., 1.],\n",
       "       ...,\n",
       "       [0., 0., 0., 1.],\n",
       "       [0., 0., 0., 1.],\n",
       "       [0., 0., 1., 0.]], dtype=float32)"
      ]
     },
     "execution_count": 5,
     "metadata": {},
     "output_type": "execute_result"
    }
   ],
   "source": [
    "answers_cat"
   ]
  },
  {
   "cell_type": "code",
   "execution_count": 6,
   "metadata": {},
   "outputs": [],
   "source": [
    "delta = np.zeros(thetas.shape)\n",
    "num_samples = x.shape[0]\n",
    "for i in range(0, num_samples):\n",
    "    point = xy[i]\n",
    "    temp_a = softmax(z[i])\n",
    "    temp_ans = answers_cat[i,:]\n",
    "    temp_error = temp_ans - temp_a\n",
    "    delta += .8*np.outer(temp_error,point)\n",
    "delta = delta/num_samples"
   ]
  },
  {
   "cell_type": "code",
   "execution_count": 7,
   "metadata": {},
   "outputs": [
    {
     "data": {
      "text/plain": [
       "array([[-0.13670137, -0.36838316],\n",
       "       [ 0.34511392,  0.37721164],\n",
       "       [-0.20422774,  0.13007442],\n",
       "       [-0.18405798,  0.31103404]])"
      ]
     },
     "execution_count": 7,
     "metadata": {},
     "output_type": "execute_result"
    }
   ],
   "source": [
    "thetas_new = thetas + delta\n",
    "thetas"
   ]
  },
  {
   "cell_type": "code",
   "execution_count": 8,
   "metadata": {},
   "outputs": [
    {
     "data": {
      "text/plain": [
       "array([[ 0.47615202,  7.07720293],\n",
       "       [-2.86902256, -5.04467608],\n",
       "       [ 4.14561205, -0.25203455],\n",
       "       [-1.93261468, -1.33055536]])"
      ]
     },
     "execution_count": 8,
     "metadata": {},
     "output_type": "execute_result"
    }
   ],
   "source": [
    "thetas_new"
   ]
  },
  {
   "cell_type": "code",
   "execution_count": 9,
   "metadata": {},
   "outputs": [],
   "source": [
    "z_new = np.matmul(xy, np.transpose(thetas_new))\n"
   ]
  },
  {
   "cell_type": "code",
   "execution_count": 10,
   "metadata": {},
   "outputs": [
    {
     "name": "stdout",
     "output_type": "stream",
     "text": [
      "0.11232\n",
      "0.65114\n"
     ]
    }
   ],
   "source": [
    "old_count = 0\n",
    "new_count = 0\n",
    "for i in range(0,num_samples):\n",
    "    if np.argmax(z[i]) == answers[i]:\n",
    "        old_count += 1\n",
    "    if np.argmax(z_new[i]) == answers[i]:\n",
    "        new_count += 1\n",
    "print(old_count/num_samples)\n",
    "print(new_count/num_samples)\n"
   ]
  },
  {
   "cell_type": "code",
   "execution_count": null,
   "metadata": {},
   "outputs": [],
   "source": []
  },
  {
   "cell_type": "code",
   "execution_count": null,
   "metadata": {},
   "outputs": [],
   "source": []
  }
 ],
 "metadata": {
  "kernelspec": {
   "display_name": "Python 3",
   "language": "python",
   "name": "python3"
  },
  "language_info": {
   "codemirror_mode": {
    "name": "ipython",
    "version": 3
   },
   "file_extension": ".py",
   "mimetype": "text/x-python",
   "name": "python",
   "nbconvert_exporter": "python",
   "pygments_lexer": "ipython3",
   "version": "3.7.4"
  }
 },
 "nbformat": 4,
 "nbformat_minor": 2
}
