{
 "cells": [
  {
   "cell_type": "code",
   "execution_count": 1,
   "metadata": {},
   "outputs": [],
   "source": [
    "from generateFunctions import generateSamples, generateAnswer, generateThetas, trainOne, trainEpoch\n",
    "from generateFunctions import testModel\n",
    "from scipy.special import softmax\n",
    "import numpy as np"
   ]
  },
  {
   "cell_type": "code",
   "execution_count": 2,
   "metadata": {},
   "outputs": [
    {
     "data": {
      "text/plain": [
       "array([[-0.37140995,  0.09063725],\n",
       "       [ 0.32409476, -0.33618902]])"
      ]
     },
     "execution_count": 2,
     "metadata": {},
     "output_type": "execute_result"
    }
   ],
   "source": [
    "directions = [[1,0],[-1,0]]\n",
    "sampleSize = 100\n",
    "x,y=generateSamples(sampleSize)\n",
    "thetas = generateThetas()\n",
    "thetas"
   ]
  },
  {
   "cell_type": "code",
   "execution_count": 3,
   "metadata": {},
   "outputs": [],
   "source": [
    "trial = thetas.copy()"
   ]
  },
  {
   "cell_type": "code",
   "execution_count": 4,
   "metadata": {},
   "outputs": [
    {
     "name": "stdout",
     "output_type": "stream",
     "text": [
      "<class 'numpy.ndarray'>\n"
     ]
    }
   ],
   "source": [
    "deltaAll = 0\n",
    "for i in range(0,5):\n",
    "    delta, z, ans = trainEpoch(x,y,trial,directions)\n",
    "    trial += delta\n",
    "    print(type(delta))"
   ]
  },
  {
   "cell_type": "code",
   "execution_count": 5,
   "metadata": {},
   "outputs": [
    {
     "name": "stdout",
     "output_type": "stream",
     "text": [
      "[[-0.17100618  0.0547402 ]\n",
      " [ 0.12369099 -0.30029198]]\n"
     ]
    }
   ],
   "source": [
    "print(trial)"
   ]
  },
  {
   "cell_type": "code",
   "execution_count": 6,
   "metadata": {},
   "outputs": [
    {
     "name": "stdout",
     "output_type": "stream",
     "text": [
      "[0.55665672 0.44334328]\n",
      "[0 1]\n",
      "[0.62247599 0.37752401]\n",
      "[0 1]\n",
      "[0.59732946 0.40267054]\n",
      "[0 1]\n",
      "[0.44010697 0.55989303]\n",
      "[1 0]\n",
      "[0.51644417 0.48355583]\n",
      "[1 0]\n",
      "[0.391078 0.608922]\n",
      "[1 0]\n",
      "[0.57967961 0.42032039]\n",
      "[0 1]\n",
      "[0.51693742 0.48306258]\n",
      "[0 1]\n",
      "[0.4406397 0.5593603]\n",
      "[1 0]\n",
      "[0.5831749 0.4168251]\n",
      "[0 1]\n"
     ]
    }
   ],
   "source": [
    "for i in range(0,10):\n",
    "    print(softmax(z[i]))\n",
    "    print(ans[i])"
   ]
  },
  {
   "cell_type": "code",
   "execution_count": 7,
   "metadata": {},
   "outputs": [
    {
     "data": {
      "text/plain": [
       "0"
      ]
     },
     "execution_count": 7,
     "metadata": {},
     "output_type": "execute_result"
    }
   ],
   "source": [
    "np.argmax(z[0])"
   ]
  },
  {
   "cell_type": "code",
   "execution_count": 8,
   "metadata": {},
   "outputs": [
    {
     "name": "stdout",
     "output_type": "stream",
     "text": [
      "[-0.47718668  0.39403693]\n",
      "[1.52281332 2.39403693]\n"
     ]
    }
   ],
   "source": [
    "xy = np.column_stack((x,y))\n",
    "print(xy[1])\n",
    "print(xy[1]+2)"
   ]
  },
  {
   "cell_type": "code",
   "execution_count": 9,
   "metadata": {},
   "outputs": [
    {
     "data": {
      "text/plain": [
       "0.25"
      ]
     },
     "execution_count": 9,
     "metadata": {},
     "output_type": "execute_result"
    }
   ],
   "source": [
    "a = testModel(x,y,trial,directions)\n",
    "a"
   ]
  }
 ],
 "metadata": {
  "kernelspec": {
   "display_name": "Python 3",
   "language": "python",
   "name": "python3"
  },
  "language_info": {
   "codemirror_mode": {
    "name": "ipython",
    "version": 3
   },
   "file_extension": ".py",
   "mimetype": "text/x-python",
   "name": "python",
   "nbconvert_exporter": "python",
   "pygments_lexer": "ipython3",
   "version": "3.7.4"
  }
 },
 "nbformat": 4,
 "nbformat_minor": 2
}
