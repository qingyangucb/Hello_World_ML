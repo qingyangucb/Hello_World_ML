{
 "cells": [
  {
   "cell_type": "code",
   "execution_count": 1,
   "metadata": {},
   "outputs": [
    {
     "name": "stderr",
     "output_type": "stream",
     "text": [
      "Using TensorFlow backend.\n"
     ]
    }
   ],
   "source": [
    "from generateFunctions import generateSamples, generateAnswer, generateThetas, trainOne, unit_vector, angle_between\n",
    "from scipy.special import softmax\n",
    "import numpy as np"
   ]
  },
  {
   "cell_type": "code",
   "execution_count": 2,
   "metadata": {},
   "outputs": [
    {
     "data": {
      "text/plain": [
       "array([[0.07669098, 0.39610215],\n",
       "       [0.225678  , 0.29615257]])"
      ]
     },
     "execution_count": 2,
     "metadata": {},
     "output_type": "execute_result"
    }
   ],
   "source": [
    "directions = [[0,1],[0,-1]]\n",
    "sampleSize = 50\n",
    "x,y=generateSamples(sampleSize)\n",
    "thetas = generateThetas()\n",
    "thetas"
   ]
  },
  {
   "cell_type": "code",
   "execution_count": 3,
   "metadata": {},
   "outputs": [
    {
     "name": "stdout",
     "output_type": "stream",
     "text": [
      "[0. 1.]\n"
     ]
    }
   ],
   "source": [
    "print(unit_vector([0,1]))"
   ]
  },
  {
   "cell_type": "code",
   "execution_count": 4,
   "metadata": {},
   "outputs": [],
   "source": [
    "trial = thetas.copy()"
   ]
  },
  {
   "cell_type": "code",
   "execution_count": 5,
   "metadata": {},
   "outputs": [],
   "source": [
    "# for i in range(0,5):\n",
    "#     ans = generateAnswer([x[i]],[y[i]],directions)\n",
    "#     print(x[i])\n",
    "#     print(y[i])\n",
    "#     print(ans)\n",
    "#     print('_____')"
   ]
  },
  {
   "cell_type": "code",
   "execution_count": 6,
   "metadata": {},
   "outputs": [
    {
     "name": "stdout",
     "output_type": "stream",
     "text": [
      "[[0, 1]]\n",
      "[[0, 1]]\n",
      "[[0, 1]]\n",
      "[[0, 1]]\n",
      "[[0, 1]]\n",
      "[[0, 1]]\n",
      "[[0, 1]]\n",
      "[[0, 1]]\n",
      "[[1, 0]]\n",
      "[[1, 0]]\n",
      "[[0, 1]]\n",
      "[[1, 0]]\n",
      "[[0, 1]]\n",
      "[[1, 0]]\n",
      "[[1, 0]]\n",
      "[[0, 1]]\n",
      "[[0, 1]]\n",
      "[[0, 1]]\n",
      "[[0, 1]]\n",
      "[[1, 0]]\n",
      "[[1, 0]]\n",
      "[[1, 0]]\n",
      "[[1, 0]]\n",
      "[[0, 1]]\n",
      "[[1, 0]]\n",
      "[[1, 0]]\n",
      "[[1, 0]]\n",
      "[[1, 0]]\n",
      "[[1, 0]]\n",
      "[[0, 1]]\n",
      "[[0, 1]]\n",
      "[[1, 0]]\n",
      "[[1, 0]]\n",
      "[[0, 1]]\n",
      "[[0, 1]]\n",
      "[[1, 0]]\n",
      "[[1, 0]]\n",
      "[[1, 0]]\n",
      "[[0, 1]]\n",
      "[[1, 0]]\n",
      "[[1, 0]]\n",
      "[[0, 1]]\n",
      "[[0, 1]]\n",
      "[[1, 0]]\n",
      "[[0, 1]]\n",
      "[[0, 1]]\n",
      "[[1, 0]]\n",
      "[[0, 1]]\n",
      "[[0, 1]]\n",
      "[[0, 1]]\n"
     ]
    }
   ],
   "source": [
    "delta = 0\n",
    "for i in range(0,sampleSize):\n",
    "    trial += delta\n",
    "    delta, tempA, tempError, answers = trainOne(x[i],y[i],trial,directions)\n",
    "    \n",
    "    \n",
    "#     print(z)\n",
    "#     print(ans)\n",
    "# #     print(cat)\n",
    "#     print('____')\n",
    "#     print(trial)\n",
    "#     print(thetas)\n",
    "#     print(delta)\n",
    "#     print('_____')\n"
   ]
  },
  {
   "cell_type": "code",
   "execution_count": 7,
   "metadata": {},
   "outputs": [
    {
     "data": {
      "text/plain": [
       "array([[-0.43579123,  3.52095764],\n",
       "       [ 0.73816021, -2.82870293]])"
      ]
     },
     "execution_count": 7,
     "metadata": {},
     "output_type": "execute_result"
    }
   ],
   "source": [
    "trial"
   ]
  },
  {
   "cell_type": "code",
   "execution_count": 8,
   "metadata": {},
   "outputs": [
    {
     "data": {
      "text/plain": [
       "array([[0.07669098, 0.39610215],\n",
       "       [0.225678  , 0.29615257]])"
      ]
     },
     "execution_count": 8,
     "metadata": {},
     "output_type": "execute_result"
    }
   ],
   "source": [
    "thetas"
   ]
  },
  {
   "cell_type": "code",
   "execution_count": 12,
   "metadata": {},
   "outputs": [
    {
     "name": "stdout",
     "output_type": "stream",
     "text": [
      "0.8003224283875334\n",
      "2.3412702252022597\n"
     ]
    }
   ],
   "source": [
    "a = angle_between([\t-0.68,0.66],[0,1])\n",
    "b = angle_between([\t-0.68,0.66],[0,-1])\n",
    "print(a)\n",
    "print(b)"
   ]
  },
  {
   "cell_type": "code",
   "execution_count": 14,
   "metadata": {},
   "outputs": [
    {
     "data": {
      "text/plain": [
       "[1, 0]"
      ]
     },
     "execution_count": 14,
     "metadata": {},
     "output_type": "execute_result"
    }
   ],
   "source": [
    "angles = [a,b]\n",
    "minAngle = min(angles)\n",
    "index = angles.index(minAngle)\n",
    "\n",
    "if index == 0:\n",
    "    answer = [1,0]\n",
    "elif index == 1:\n",
    "    answer = [0,1]\n",
    "answer"
   ]
  },
  {
   "cell_type": "code",
   "execution_count": 11,
   "metadata": {},
   "outputs": [
    {
     "data": {
      "text/plain": [
       "[0, 1]"
      ]
     },
     "execution_count": 11,
     "metadata": {},
     "output_type": "execute_result"
    }
   ],
   "source": [
    "a = angle_between([\t-0.68,0.66],[0,1])\n",
    "b = angle_between([\t-0.68,0.66],[0,-1])\n",
    "print(a)\n",
    "print(b)\n",
    "angles = [a,b]\n",
    "minAngle = min(angles)\n",
    "index = angles.index(minAngle)\n",
    "\n",
    "if index == 0:\n",
    "    answer = [1,0]\n",
    "elif index == 1:\n",
    "    answer = [0,1]\n",
    "answer"
   ]
  },
  {
   "cell_type": "code",
   "execution_count": null,
   "metadata": {},
   "outputs": [],
   "source": []
  }
 ],
 "metadata": {
  "kernelspec": {
   "display_name": "Python 3",
   "language": "python",
   "name": "python3"
  },
  "language_info": {
   "codemirror_mode": {
    "name": "ipython",
    "version": 3
   },
   "file_extension": ".py",
   "mimetype": "text/x-python",
   "name": "python",
   "nbconvert_exporter": "python",
   "pygments_lexer": "ipython3",
   "version": "3.7.4"
  }
 },
 "nbformat": 4,
 "nbformat_minor": 2
}
