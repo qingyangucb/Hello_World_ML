{
 "cells": [
  {
   "cell_type": "code",
   "execution_count": 1,
   "metadata": {},
   "outputs": [
    {
     "name": "stderr",
     "output_type": "stream",
     "text": [
      "Using TensorFlow backend.\n"
     ]
    }
   ],
   "source": [
    "from generateFunctions import generateSamples, generateAnswer, generateThetas, trainOne\n",
    "from scipy.special import softmax\n",
    "import numpy as np"
   ]
  },
  {
   "cell_type": "code",
   "execution_count": 2,
   "metadata": {},
   "outputs": [
    {
     "data": {
      "text/plain": [
       "array([[-0.18177878,  0.21662903],\n",
       "       [-0.14286074,  0.08061681]])"
      ]
     },
     "execution_count": 2,
     "metadata": {},
     "output_type": "execute_result"
    }
   ],
   "source": [
    "directions = [[0,1],[0,-1]]\n",
    "sampleSize = 100\n",
    "x,y=generateSamples(sampleSize)\n",
    "thetas = generateThetas()\n",
    "thetas"
   ]
  },
  {
   "cell_type": "code",
   "execution_count": 3,
   "metadata": {},
   "outputs": [],
   "source": [
    "trial = thetas.copy()"
   ]
  },
  {
   "cell_type": "code",
   "execution_count": 4,
   "metadata": {},
   "outputs": [
    {
     "name": "stdout",
     "output_type": "stream",
     "text": [
      "-0.6028586738041425\n",
      "0.26530008049604553\n",
      "[[1 0]]\n",
      "_____\n",
      "-0.6926363660974558\n",
      "-0.34881152454704334\n",
      "[[0 1]]\n",
      "_____\n",
      "-0.6532593568106174\n",
      "0.4523918506643679\n",
      "[[1 0]]\n",
      "_____\n",
      "-0.6530677039944017\n",
      "0.2948135710027922\n",
      "[[1 0]]\n",
      "_____\n",
      "-0.5000246893645729\n",
      "-0.6868292313644022\n",
      "[[0 1]]\n",
      "_____\n"
     ]
    }
   ],
   "source": [
    "for i in range(0,5):\n",
    "    ans = generateAnswer([x[i]],[y[i]],directions)\n",
    "    print(x[i])\n",
    "    print(y[i])\n",
    "    print(ans)\n",
    "    print('_____')"
   ]
  },
  {
   "cell_type": "code",
   "execution_count": 5,
   "metadata": {},
   "outputs": [],
   "source": [
    "delta = 0\n",
    "for i in range(0,sampleSize):\n",
    "    trial += delta\n",
    "    delta, z, ans = trainOne(x[i],y[i],trial,directions)\n",
    "    \n",
    "    \n",
    "#     print(z)\n",
    "#     print(ans)\n",
    "# #     print(cat)\n",
    "#     print('____')\n",
    "    print(trial)\n",
    "    print(thetas)\n",
    "    print(delta)\n",
    "    print('_____')\n"
   ]
  },
  {
   "cell_type": "code",
   "execution_count": 6,
   "metadata": {},
   "outputs": [
    {
     "data": {
      "text/plain": [
       "array([[ -0.02081322,  16.55749626],\n",
       "       [ -0.30382629, -16.26025042]])"
      ]
     },
     "execution_count": 6,
     "metadata": {},
     "output_type": "execute_result"
    }
   ],
   "source": [
    "trial"
   ]
  },
  {
   "cell_type": "code",
   "execution_count": 7,
   "metadata": {},
   "outputs": [
    {
     "data": {
      "text/plain": [
       "array([[-0.18177878,  0.21662903],\n",
       "       [-0.14286074,  0.08061681]])"
      ]
     },
     "execution_count": 7,
     "metadata": {},
     "output_type": "execute_result"
    }
   ],
   "source": [
    "thetas"
   ]
  },
  {
   "cell_type": "code",
   "execution_count": 8,
   "metadata": {},
   "outputs": [
    {
     "data": {
      "text/plain": [
       "array([[ 0.04424495,  0.00669579],\n",
       "       [-0.04424495, -0.00669579]])"
      ]
     },
     "execution_count": 8,
     "metadata": {},
     "output_type": "execute_result"
    }
   ],
   "source": [
    "delta"
   ]
  }
 ],
 "metadata": {
  "kernelspec": {
   "display_name": "Python 3",
   "language": "python",
   "name": "python3"
  },
  "language_info": {
   "codemirror_mode": {
    "name": "ipython",
    "version": 3
   },
   "file_extension": ".py",
   "mimetype": "text/x-python",
   "name": "python",
   "nbconvert_exporter": "python",
   "pygments_lexer": "ipython3",
   "version": "3.7.4"
  }
 },
 "nbformat": 4,
 "nbformat_minor": 2
}
