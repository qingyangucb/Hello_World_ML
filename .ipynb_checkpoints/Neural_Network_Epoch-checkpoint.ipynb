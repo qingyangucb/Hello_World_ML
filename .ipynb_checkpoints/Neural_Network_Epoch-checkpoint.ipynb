{
 "cells": [
  {
   "cell_type": "code",
   "execution_count": 1,
   "metadata": {},
   "outputs": [
    {
     "name": "stderr",
     "output_type": "stream",
     "text": [
      "Using TensorFlow backend.\n"
     ]
    }
   ],
   "source": [
    "from generateFunctions import generateSamples, generateAnswer, generateThetas\n",
    "from keras.utils import to_categorical\n",
    "from scipy.special import softmax\n",
    "import numpy as np"
   ]
  },
  {
   "cell_type": "code",
   "execution_count": 2,
   "metadata": {},
   "outputs": [],
   "source": [
    "# directions = [[2,10],[4,-16],[-15,-5],[-14,7]]\n",
    "# directions = [[1,3],[1,-4],[-7,-2],[14,-3]]\n",
    "directions = [[0,1],[0,-1]]"
   ]
  },
  {
   "cell_type": "code",
   "execution_count": 3,
   "metadata": {},
   "outputs": [],
   "source": [
    "def trainNetwork(numSamples, numEpochs, directions):\n",
    "    x,y=generateSamples(numSamples)\n",
    "    xy = np.column_stack((x,y))\n",
    "    \n",
    "    answers = generateAnswer(x,y,directions)\n",
    "    answersCat = to_categorical(answers)\n",
    "    thetas = generateThetas()\n",
    "    thetasNew = thetas\n",
    "    z = np.matmul(xy, np.transpose(thetas))\n",
    "    zNew = np.matmul(xy, np.transpose(thetasNew))\n",
    "    \n",
    "    for i in range(0, numEpochs):\n",
    "        delta = 0\n",
    "        zNew = np.matmul(xy, np.transpose(thetasNew))\n",
    "        for j in range(0, numSamples):\n",
    "            point = xy[j]\n",
    "            tempA = softmax(zNew[j])\n",
    "            tempAns = answersCat[j,:]\n",
    "            tempError = tempAns - tempA\n",
    "            delta += np.outer(tempError,point)\n",
    "        delta = delta/numSamples\n",
    "        thetasNew += delta\n",
    "#         print(thetasNew)\n",
    "#         print('_______')\n",
    "        \n",
    "    \n",
    "    oldCount = 0\n",
    "    newCount = 0\n",
    "    \n",
    "    for i in range(0,numSamples):\n",
    "        if np.argmax(z[i]) == answers[i]:\n",
    "            oldCount += 1\n",
    "        if np.argmax(zNew[i]) == answers[i]:\n",
    "            newCount += 1\n",
    "#         print(zNew[i])\n",
    "#         print(answersCat[i])\n",
    "\n",
    "    oldPercent = oldCount/numSamples\n",
    "    newPercent = newCount/numSamples\n",
    "    return oldPercent, newPercent, thetasNew, xy, answersCat, zNew"
   ]
  },
  {
   "cell_type": "code",
   "execution_count": 4,
   "metadata": {},
   "outputs": [
    {
     "name": "stdout",
     "output_type": "stream",
     "text": [
      "0.542\n",
      "0.998\n",
      "[[ 0.31293195  2.65460738]\n",
      " [ 0.00474523 -2.44403191]]\n"
     ]
    }
   ],
   "source": [
    "a, b, c, xy, ans,z = trainNetwork(1000, 10, directions)\n",
    "print(a)\n",
    "print(b)\n",
    "print(c)"
   ]
  },
  {
   "cell_type": "code",
   "execution_count": null,
   "metadata": {},
   "outputs": [],
   "source": []
  },
  {
   "cell_type": "code",
   "execution_count": 5,
   "metadata": {},
   "outputs": [
    {
     "name": "stdout",
     "output_type": "stream",
     "text": [
      "[-3.04741246 -0.88550797]\n",
      "[-3.30056474  2.14600509]\n",
      "[0.00429256 0.99570744]\n",
      "[0. 1.]\n",
      "[ 0.25577421 -8.67913302]\n",
      "[-22.93194742  21.18558853]\n",
      "[6.91827121e-20 1.00000000e+00]\n",
      "[0. 1.]\n",
      "[ 9.02389894 -3.49541953]\n",
      "[-6.44660603  8.57724319]\n",
      "[2.98693008e-07 9.99999701e-01]\n",
      "[0. 1.]\n",
      "[-5.47849199  4.83177913]\n",
      "[ 11.09825152 -11.82118925]\n",
      "[1.00000000e+00 1.11227799e-10]\n",
      "[1. 0.]\n",
      "[ 2.96131715 -1.02592493]\n",
      "[-1.79433741  2.51904567]\n",
      "[0.0132113 0.9867887]\n",
      "[0. 1.]\n",
      "[9.81407007 2.45281076]\n",
      "[ 9.57160522 -5.93739733]\n",
      "[9.99999816e-01 1.83876273e-07]\n",
      "[1. 0.]\n",
      "[-3.91873804 -1.26283605]\n",
      "[-4.57342044  3.06260449]\n",
      "[4.82510653e-04 9.99517489e-01]\n",
      "[0. 1.]\n",
      "[7.32134781 5.3510982 ]\n",
      "[ 16.47683546 -13.02420031]\n",
      "[1.00000000e+00 1.54121403e-13]\n",
      "[1. 0.]\n",
      "[8.84526953 8.95396377]\n",
      "[ 26.50592606 -21.81050065]\n",
      "[1.00000000e+00 1.03858607e-21]\n",
      "[1. 0.]\n",
      "[2.43920368 7.99164745]\n",
      "[ 21.95168379 -19.49395952]\n",
      "[1.00000000e+00 1.00088876e-18]\n",
      "[1. 0.]\n",
      "[-1.97646895 -8.52953451]\n",
      "[-23.23317477  20.80918494]\n",
      "[7.45840924e-20 1.00000000e+00]\n",
      "[0. 1.]\n",
      "[8.50249277 9.79677329]\n",
      "[ 28.63339336 -23.86938528]\n",
      "[1.00000000e+00 1.57882121e-23]\n",
      "[1. 0.]\n",
      "[ 7.9003567  -2.07657195]\n",
      "[-3.03592101  5.10840893]\n",
      "[2.90292864e-04 9.99709707e-01]\n",
      "[0. 1.]\n",
      "[-5.43066072 -1.55546616]\n",
      "[-5.82197945  3.76923945]\n",
      "[6.83214198e-05 9.99931679e-01]\n",
      "[0. 1.]\n",
      "[ 9.64726992 -1.7262202 ]\n",
      "[-1.56085255  4.26207043]\n",
      "[0.00295021 0.99704979]\n",
      "[0. 1.]\n"
     ]
    }
   ],
   "source": [
    "for i in range(0,15):\n",
    "    print(xy[i])\n",
    "    print(z[i])\n",
    "    print(softmax(z[i]))\n",
    "    print(ans[i])"
   ]
  },
  {
   "cell_type": "code",
   "execution_count": 6,
   "metadata": {},
   "outputs": [
    {
     "name": "stdout",
     "output_type": "stream",
     "text": [
      "[[4, 1], [5, -2]]\n"
     ]
    }
   ],
   "source": [
    "print(directions)"
   ]
  },
  {
   "cell_type": "code",
   "execution_count": 7,
   "metadata": {},
   "outputs": [
    {
     "data": {
      "text/plain": [
       "array([[ 0.31293195,  2.65460738],\n",
       "       [ 0.00474523, -2.44403191]])"
      ]
     },
     "execution_count": 7,
     "metadata": {},
     "output_type": "execute_result"
    }
   ],
   "source": [
    "c"
   ]
  },
  {
   "cell_type": "code",
   "execution_count": 8,
   "metadata": {},
   "outputs": [],
   "source": [
    "# k=[[d[0][0]*c[0][0], d[0][1]*c[0][1]],[d[0][0]*c[1][0], d[0][1]*c[1][1]],[d[0][0]*c[2][0], d[0][1]*c[2][1]],[d[0][0]*c[3][0], d[0][1]*c[3][1]]]\n",
    "# k"
   ]
  },
  {
   "cell_type": "code",
   "execution_count": 9,
   "metadata": {},
   "outputs": [],
   "source": [
    "# np.sum(k, axis=1)"
   ]
  },
  {
   "cell_type": "code",
   "execution_count": 10,
   "metadata": {},
   "outputs": [
    {
     "data": {
      "text/plain": [
       "[0.11788257469623388, -0.0019415571257634123]"
      ]
     },
     "execution_count": 10,
     "metadata": {},
     "output_type": "execute_result"
    }
   ],
   "source": [
    "ratios = []\n",
    "for i in range(0, c.shape[0]):\n",
    "    ratio = c[i,0]/c[i,1]\n",
    "    ratios.append(ratio)\n",
    "ratios"
   ]
  },
  {
   "cell_type": "code",
   "execution_count": 11,
   "metadata": {},
   "outputs": [
    {
     "data": {
      "text/plain": [
       "[4.0, -2.5]"
      ]
     },
     "execution_count": 11,
     "metadata": {},
     "output_type": "execute_result"
    }
   ],
   "source": [
    "ratios = []\n",
    "for i in range(0, c.shape[0]):\n",
    "    ratio = directions[i][0]/directions[i][1]\n",
    "    ratios.append(ratio)\n",
    "ratios"
   ]
  }
 ],
 "metadata": {
  "kernelspec": {
   "display_name": "Python 3",
   "language": "python",
   "name": "python3"
  },
  "language_info": {
   "codemirror_mode": {
    "name": "ipython",
    "version": 3
   },
   "file_extension": ".py",
   "mimetype": "text/x-python",
   "name": "python",
   "nbconvert_exporter": "python",
   "pygments_lexer": "ipython3",
   "version": "3.7.4"
  }
 },
 "nbformat": 4,
 "nbformat_minor": 2
}
