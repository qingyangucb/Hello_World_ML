{
 "cells": [
  {
   "cell_type": "code",
   "execution_count": null,
   "metadata": {},
   "outputs": [],
   "source": [
    "from generateFunctions import generateSamples, generateAnswer, generateThetas, trainOne\n",
    "from keras.utils import to_categorical\n",
    "from scipy.special import softmax\n",
    "import numpy as np"
   ]
  },
  {
   "cell_type": "code",
   "execution_count": null,
   "metadata": {},
   "outputs": [],
   "source": [
    "# directions = [[2,10],[4,-16],[-15,-5],[-14,7]]\n",
    "# directions = [[1,3],[1,-4],[-7,-2],[14,-3]]\n",
    "directions = [[0,1],[0,-1]]"
   ]
  },
  {
   "cell_type": "code",
   "execution_count": null,
   "metadata": {},
   "outputs": [],
   "source": [
    "def trainNetwork(numSamples, numEpochs, directions):\n",
    "    x,y=generateSamples(numSamples)\n",
    "    xy = np.column_stack((x,y))\n",
    "    \n",
    "    answers = generateAnswer(x,y,directions)\n",
    "    answersCat = to_categorical(answers)\n",
    "    thetas = generateThetas()\n",
    "    thetasNew = thetas\n",
    "    z = np.matmul(xy, np.transpose(thetas))\n",
    "    \n",
    "    \n",
    "    for i in range(0, numEpochs):\n",
    "        delta = 0\n",
    "        zNew = np.matmul(xy, np.transpose(thetasNew))\n",
    "        for j in range(0, numSamples):\n",
    "            point = xy[j]\n",
    "            tempA = softmax(zNew[j])\n",
    "            tempAns = answersCat[j,:]\n",
    "            tempError = tempAns - tempA\n",
    "            delta += np.outer(tempError,point)\n",
    "        delta = delta/numSamples\n",
    "        thetasNew += delta\n",
    "#         print(thetasNew)\n",
    "#         print('_______')\n",
    "        \n",
    "    \n",
    "    oldCount = 0\n",
    "    newCount = 0\n",
    "    \n",
    "    for i in range(0,numSamples):\n",
    "        if np.argmax(z[i]) == answers[i]:\n",
    "            oldCount += 1\n",
    "        if np.argmax(zNew[i]) == answers[i]:\n",
    "            newCount += 1\n",
    "#         print(zNew[i])\n",
    "#         print(answersCat[i])\n",
    "\n",
    "    oldPercent = oldCount/numSamples\n",
    "    newPercent = newCount/numSamples\n",
    "    return oldPercent, newPercent, thetasNew, xy, answers, zNew"
   ]
  },
  {
   "cell_type": "code",
   "execution_count": null,
   "metadata": {},
   "outputs": [],
   "source": [
    "a, b, thetas, xy, ans,z = trainNetwork(5000, 10, directions)\n",
    "print(a)\n",
    "print(b)\n",
    "print(ans)"
   ]
  },
  {
   "cell_type": "code",
   "execution_count": null,
   "metadata": {},
   "outputs": [],
   "source": [
    "# for i in range(0,15):\n",
    "#     print(xy[i])\n",
    "#     print(z[i])\n",
    "#     print(softmax(z[i]))\n",
    "#     print(ans[i])"
   ]
  },
  {
   "cell_type": "code",
   "execution_count": null,
   "metadata": {},
   "outputs": [],
   "source": [
    "trial = thetas.copy\n",
    "trial"
   ]
  },
  {
   "cell_type": "code",
   "execution_count": null,
   "metadata": {},
   "outputs": [],
   "source": [
    "for i in range(0,5):\n",
    "    trial = trainOne(xy[i,0],xy[i,1],trial,directions)\n",
    "    print(trial)\n",
    "    print(thetas)\n",
    "    print('_____')\n"
   ]
  },
  {
   "cell_type": "code",
   "execution_count": null,
   "metadata": {},
   "outputs": [],
   "source": [
    "ta = [0,0]\n",
    "ta=to_categorical(ta)\n",
    "ta"
   ]
  },
  {
   "cell_type": "code",
   "execution_count": null,
   "metadata": {},
   "outputs": [],
   "source": [
    "# ratios = []\n",
    "# for i in range(0, c.shape[0]):\n",
    "#     ratio = c[i,0]/c[i,1]\n",
    "#     ratios.append(ratio)\n",
    "# ratios"
   ]
  },
  {
   "cell_type": "code",
   "execution_count": null,
   "metadata": {},
   "outputs": [],
   "source": [
    "# ratios = []\n",
    "# for i in range(0, c.shape[0]):\n",
    "#     ratio = directions[i][0]/directions[i][1]\n",
    "#     ratios.append(ratio)\n",
    "# ratios"
   ]
  }
 ],
 "metadata": {
  "kernelspec": {
   "display_name": "Python 3",
   "language": "python",
   "name": "python3"
  },
  "language_info": {
   "codemirror_mode": {
    "name": "ipython",
    "version": 3
   },
   "file_extension": ".py",
   "mimetype": "text/x-python",
   "name": "python",
   "nbconvert_exporter": "python",
   "pygments_lexer": "ipython3",
   "version": "3.7.4"
  }
 },
 "nbformat": 4,
 "nbformat_minor": 2
}
