{
 "cells": [
  {
   "cell_type": "code",
   "execution_count": 1,
   "metadata": {},
   "outputs": [
    {
     "name": "stderr",
     "output_type": "stream",
     "text": [
      "Using TensorFlow backend.\n"
     ]
    }
   ],
   "source": [
    "from generateFunctions import generateSamples, generateAnswer, generateThetas\n",
    "from keras.utils import to_categorical\n",
    "from scipy.special import softmax\n",
    "import numpy as np"
   ]
  },
  {
   "cell_type": "code",
   "execution_count": 2,
   "metadata": {},
   "outputs": [],
   "source": [
    "# directions = [[2,10],[4,-16],[-15,-5],[-14,7]]\n",
    "# directions = [[1,3],[1,-4],[-7,-2],[14,-3]]\n",
    "directions = [[0,1],[0,-1]]"
   ]
  },
  {
   "cell_type": "code",
   "execution_count": 3,
   "metadata": {},
   "outputs": [],
   "source": [
    "def trainNetwork(numSamples, numEpochs, directions):\n",
    "    x,y=generateSamples(numSamples)\n",
    "    xy = np.column_stack((x,y))\n",
    "    \n",
    "    answers = generateAnswer(x,y,directions)\n",
    "    answersCat = to_categorical(answers)\n",
    "    thetas = generateThetas()\n",
    "    thetasNew = thetas\n",
    "    z = np.matmul(xy, np.transpose(thetas))\n",
    "    zNew = np.matmul(xy, np.transpose(thetasNew))\n",
    "    \n",
    "    for i in range(0, numEpochs):\n",
    "        delta = 0\n",
    "        zNew = np.matmul(xy, np.transpose(thetasNew))\n",
    "        for j in range(0, numSamples):\n",
    "            point = xy[j]\n",
    "            tempA = softmax(zNew[j])\n",
    "            tempAns = answersCat[j,:]\n",
    "            tempError = tempAns - tempA\n",
    "            delta += np.outer(tempError,point)\n",
    "        delta = delta/numSamples\n",
    "        thetasNew += delta\n",
    "#         print(thetasNew)\n",
    "#         print('_______')\n",
    "        \n",
    "    \n",
    "    oldCount = 0\n",
    "    newCount = 0\n",
    "    \n",
    "    for i in range(0,numSamples):\n",
    "        if np.argmax(z[i]) == answers[i]:\n",
    "            oldCount += 1\n",
    "        if np.argmax(zNew[i]) == answers[i]:\n",
    "            newCount += 1\n",
    "#         print(zNew[i])\n",
    "#         print(answersCat[i])\n",
    "\n",
    "    oldPercent = oldCount/numSamples\n",
    "    newPercent = newCount/numSamples\n",
    "    return oldPercent, newPercent, thetasNew, xy, answersCat, zNew"
   ]
  },
  {
   "cell_type": "code",
   "execution_count": 4,
   "metadata": {},
   "outputs": [
    {
     "name": "stdout",
     "output_type": "stream",
     "text": [
      "0.783\n",
      "1.0\n",
      "[[ 0.05777551  1.9448021 ]\n",
      " [ 0.06133923 -2.12668193]]\n"
     ]
    }
   ],
   "source": [
    "a, b, c, xy, ans,z = trainNetwork(1000, 10, directions)\n",
    "print(a)\n",
    "print(b)\n",
    "print(c)"
   ]
  },
  {
   "cell_type": "code",
   "execution_count": null,
   "metadata": {},
   "outputs": [],
   "source": []
  },
  {
   "cell_type": "code",
   "execution_count": 5,
   "metadata": {},
   "outputs": [
    {
     "name": "stdout",
     "output_type": "stream",
     "text": [
      "[-0.51824584  4.93619591]\n",
      "[  9.54672786 -10.50625304]\n",
      "[9.99999998e-01 1.95479424e-09]\n",
      "[1. 0.]\n",
      "[-0.56632767  8.60961598]\n",
      "[ 16.6707459  -18.30411935]\n",
      "[1.00000000e+00 6.46560275e-16]\n",
      "[1. 0.]\n",
      "[-6.03149976  9.8314619 ]\n",
      "[ 18.72506827 -21.23165337]\n",
      "[1.00000000e+00 4.43625266e-18]\n",
      "[1. 0.]\n",
      "[4.99556292 5.87463948]\n",
      "[ 11.68639543 -12.1598287 ]\n",
      "[1.00000000e+00 4.40267316e-11]\n",
      "[1. 0.]\n",
      "[ 2.02912091 -9.58608302]\n",
      "[-18.48056101  20.46577435]\n",
      "[1.21848858e-17 1.00000000e+00]\n",
      "[0. 1.]\n",
      "[3.20068189 0.2417493 ]\n",
      "[ 0.65418871 -0.31690966]\n",
      "[0.72533837 0.27466163]\n",
      "[1. 0.]\n",
      "[1.12506382 7.73023578]\n",
      "[ 15.0625141  -16.33447638]\n",
      "[1.00000000e+00 2.31451654e-14]\n",
      "[1. 0.]\n",
      "[ 0.15175402 -9.74330489]\n",
      "[-18.89419955  20.68438632]\n",
      "[6.47498183e-18 1.00000000e+00]\n",
      "[0. 1.]\n",
      "[ 6.432249   -5.57820239]\n",
      "[-10.45013764  12.23087577]\n",
      "[1.41176051e-10 1.00000000e+00]\n",
      "[0. 1.]\n",
      "[-0.84126863  7.29719684]\n",
      "[ 14.10861609 -15.53603649]\n",
      "[1.00000000e+00 1.33502983e-13]\n",
      "[1. 0.]\n",
      "[-3.72736808 -2.80171427]\n",
      "[-5.65124567  5.71683652]\n",
      "[1.15584503e-05 9.99988442e-01]\n",
      "[0. 1.]\n",
      "[4.21242501 9.02590479]\n",
      "[ 17.75485571 -18.89472383]\n",
      "[1.00000000e+00 1.21140634e-16]\n",
      "[1. 0.]\n",
      "[-1.91697899 -0.87933832]\n",
      "[-1.81690786  1.74850132]\n",
      "[0.02750735 0.97249265]\n",
      "[0. 1.]\n",
      "[-7.81697478  1.44558245]\n",
      "[ 2.35233314 -3.54637231]\n",
      "[0.99726451 0.00273549]\n",
      "[1. 0.]\n",
      "[5.29498328 7.56593239]\n",
      "[ 14.98499419 -15.73037414]\n",
      "[1.00000000e+00 4.57598955e-14]\n",
      "[1. 0.]\n"
     ]
    }
   ],
   "source": [
    "for i in range(0,15):\n",
    "    print(xy[i])\n",
    "    print(z[i])\n",
    "    print(softmax(z[i]))\n",
    "    print(ans[i])"
   ]
  },
  {
   "cell_type": "code",
   "execution_count": 6,
   "metadata": {},
   "outputs": [
    {
     "name": "stdout",
     "output_type": "stream",
     "text": [
      "[[0, 1], [0, -1]]\n"
     ]
    }
   ],
   "source": [
    "print(directions)"
   ]
  },
  {
   "cell_type": "code",
   "execution_count": 7,
   "metadata": {},
   "outputs": [
    {
     "data": {
      "text/plain": [
       "array([[ 0.05777551,  1.9448021 ],\n",
       "       [ 0.06133923, -2.12668193]])"
      ]
     },
     "execution_count": 7,
     "metadata": {},
     "output_type": "execute_result"
    }
   ],
   "source": [
    "c"
   ]
  },
  {
   "cell_type": "code",
   "execution_count": 8,
   "metadata": {},
   "outputs": [],
   "source": [
    "# k=[[d[0][0]*c[0][0], d[0][1]*c[0][1]],[d[0][0]*c[1][0], d[0][1]*c[1][1]],[d[0][0]*c[2][0], d[0][1]*c[2][1]],[d[0][0]*c[3][0], d[0][1]*c[3][1]]]\n",
    "# k"
   ]
  },
  {
   "cell_type": "code",
   "execution_count": 9,
   "metadata": {},
   "outputs": [],
   "source": [
    "# np.sum(k, axis=1)"
   ]
  },
  {
   "cell_type": "code",
   "execution_count": 10,
   "metadata": {},
   "outputs": [
    {
     "data": {
      "text/plain": [
       "[0.02970765407743886, -0.02884268977632996]"
      ]
     },
     "execution_count": 10,
     "metadata": {},
     "output_type": "execute_result"
    }
   ],
   "source": [
    "ratios = []\n",
    "for i in range(0, c.shape[0]):\n",
    "    ratio = c[i,0]/c[i,1]\n",
    "    ratios.append(ratio)\n",
    "ratios"
   ]
  },
  {
   "cell_type": "code",
   "execution_count": 11,
   "metadata": {},
   "outputs": [
    {
     "data": {
      "text/plain": [
       "[0.0, -0.0]"
      ]
     },
     "execution_count": 11,
     "metadata": {},
     "output_type": "execute_result"
    }
   ],
   "source": [
    "ratios = []\n",
    "for i in range(0, c.shape[0]):\n",
    "    ratio = directions[i][0]/directions[i][1]\n",
    "    ratios.append(ratio)\n",
    "ratios"
   ]
  }
 ],
 "metadata": {
  "kernelspec": {
   "display_name": "Python 3",
   "language": "python",
   "name": "python3"
  },
  "language_info": {
   "codemirror_mode": {
    "name": "ipython",
    "version": 3
   },
   "file_extension": ".py",
   "mimetype": "text/x-python",
   "name": "python",
   "nbconvert_exporter": "python",
   "pygments_lexer": "ipython3",
   "version": "3.7.4"
  }
 },
 "nbformat": 4,
 "nbformat_minor": 2
}
