{
 "cells": [
  {
   "cell_type": "code",
   "execution_count": 1,
   "metadata": {},
   "outputs": [
    {
     "name": "stderr",
     "output_type": "stream",
     "text": [
      "Using TensorFlow backend.\n"
     ]
    }
   ],
   "source": [
    "from generateFunctions import generateSamples, generateAnswer, generateThetas\n",
    "from keras.utils import to_categorical\n",
    "from scipy.special import softmax\n",
    "import numpy as np"
   ]
  },
  {
   "cell_type": "code",
   "execution_count": 2,
   "metadata": {},
   "outputs": [],
   "source": [
    "# thetas = [generateThetas()]\n",
    "directions = [[0,1],[0,-1],[1,0],[-1,0]]\n",
    "x,y=generateSamples(50000)\n",
    "answers = generateAnswer(x,y,directions)\n",
    "answers_cat = to_categorical(answers)"
   ]
  },
  {
   "cell_type": "code",
   "execution_count": 3,
   "metadata": {},
   "outputs": [],
   "source": [
    "# thetas = np.array([[2,3],[2,-4],[6,2],[-3,1]])\n",
    "thetas = generateThetas()"
   ]
  },
  {
   "cell_type": "code",
   "execution_count": 4,
   "metadata": {},
   "outputs": [],
   "source": [
    "xy = np.column_stack((x,y))\n",
    "z = np.matmul(xy, np.transpose(thetas))\n",
    "# a = softmax(z)\n",
    "# error = a - answer\n"
   ]
  },
  {
   "cell_type": "code",
   "execution_count": 5,
   "metadata": {},
   "outputs": [
    {
     "data": {
      "text/plain": [
       "array([[0., 0., 0., 1.],\n",
       "       [0., 1., 0., 0.],\n",
       "       [0., 0., 0., 1.],\n",
       "       ...,\n",
       "       [0., 0., 1., 0.],\n",
       "       [0., 0., 1., 0.],\n",
       "       [0., 0., 1., 0.]], dtype=float32)"
      ]
     },
     "execution_count": 5,
     "metadata": {},
     "output_type": "execute_result"
    }
   ],
   "source": [
    "answers_cat"
   ]
  },
  {
   "cell_type": "code",
   "execution_count": 6,
   "metadata": {},
   "outputs": [],
   "source": [
    "delta = np.zeros(thetas.shape)\n",
    "num_samples = x.shape[0]\n",
    "for i in range(0, num_samples):\n",
    "    point = xy[i]\n",
    "    temp_a = softmax(z[i])\n",
    "    temp_ans = answers_cat[i,:]\n",
    "    temp_error = temp_ans - temp_a\n",
    "    delta += .8*np.outer(temp_error,point)\n",
    "delta = delta/num_samples"
   ]
  },
  {
   "cell_type": "code",
   "execution_count": 7,
   "metadata": {},
   "outputs": [
    {
     "data": {
      "text/plain": [
       "array([[-0.28162215,  0.21874139],\n",
       "       [-0.14249924, -0.36462538],\n",
       "       [ 0.17250059, -0.10987418],\n",
       "       [-0.20078648, -0.17877012]])"
      ]
     },
     "execution_count": 7,
     "metadata": {},
     "output_type": "execute_result"
    }
   ],
   "source": [
    "thetas_new = thetas + delta\n",
    "thetas"
   ]
  },
  {
   "cell_type": "code",
   "execution_count": 8,
   "metadata": {},
   "outputs": [
    {
     "data": {
      "text/plain": [
       "array([[ 0.43677189,  0.27744706],\n",
       "       [ 0.09503653, -0.63167647],\n",
       "       [ 0.26718779, -0.15174684],\n",
       "       [-1.2514035 ,  0.07144796]])"
      ]
     },
     "execution_count": 8,
     "metadata": {},
     "output_type": "execute_result"
    }
   ],
   "source": [
    "thetas_new"
   ]
  },
  {
   "cell_type": "code",
   "execution_count": 9,
   "metadata": {},
   "outputs": [],
   "source": [
    "z_new = np.matmul(xy, np.transpose(thetas_new))\n"
   ]
  },
  {
   "cell_type": "code",
   "execution_count": 12,
   "metadata": {},
   "outputs": [
    {
     "name": "stdout",
     "output_type": "stream",
     "text": [
      "0.70644\n",
      "0.58112\n"
     ]
    }
   ],
   "source": [
    "old_count = 0\n",
    "new_count = 0\n",
    "for i in range(0,num_samples):\n",
    "    if np.argmax(z[i]) == answers[i]:\n",
    "        old_count += 1\n",
    "    if np.argmax(z_new[i]) == answers[i]:\n",
    "        new_count += 1\n",
    "print(old_count/num_samples)\n",
    "print(new_count/num_samples)\n"
   ]
  },
  {
   "cell_type": "code",
   "execution_count": 15,
   "metadata": {},
   "outputs": [
    {
     "data": {
      "text/plain": [
       "array([-0.09841966,  3.93175972, -0.14168361,  2.7337574 ])"
      ]
     },
     "execution_count": 15,
     "metadata": {},
     "output_type": "execute_result"
    }
   ],
   "source": [
    "z[1]"
   ]
  },
  {
   "cell_type": "code",
   "execution_count": 13,
   "metadata": {},
   "outputs": [
    {
     "data": {
      "text/plain": [
       "array([[-9.73130297, -7.01291257],\n",
       "       [-6.15695761, -8.37681111],\n",
       "       [-8.79515602,  4.17652903],\n",
       "       ...,\n",
       "       [ 5.03535903,  2.30807391],\n",
       "       [ 9.1685526 , -4.16700387],\n",
       "       [ 9.0484088 ,  0.72628162]])"
      ]
     },
     "execution_count": 13,
     "metadata": {},
     "output_type": "execute_result"
    }
   ],
   "source": [
    "xy"
   ]
  }
 ],
 "metadata": {
  "kernelspec": {
   "display_name": "Python 3",
   "language": "python",
   "name": "python3"
  },
  "language_info": {
   "codemirror_mode": {
    "name": "ipython",
    "version": 3
   },
   "file_extension": ".py",
   "mimetype": "text/x-python",
   "name": "python",
   "nbconvert_exporter": "python",
   "pygments_lexer": "ipython3",
   "version": "3.7.4"
  }
 },
 "nbformat": 4,
 "nbformat_minor": 2
}
