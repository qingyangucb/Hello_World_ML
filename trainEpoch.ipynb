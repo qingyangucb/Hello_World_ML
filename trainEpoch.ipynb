{
 "cells": [
  {
   "cell_type": "code",
   "execution_count": 1,
   "metadata": {},
   "outputs": [],
   "source": [
    "from generateFunctions import generateSamples, generateAnswer, generateThetas, trainOne, trainEpoch\n",
    "from generateFunctions import testModel\n",
    "from scipy.special import softmax\n",
    "import numpy as np"
   ]
  },
  {
   "cell_type": "code",
   "execution_count": 2,
   "metadata": {},
   "outputs": [
    {
     "data": {
      "text/plain": [
       "array([[-0.07034353, -0.33646251],\n",
       "       [-0.06780485,  0.2719661 ]])"
      ]
     },
     "execution_count": 2,
     "metadata": {},
     "output_type": "execute_result"
    }
   ],
   "source": [
    "directions = [[1,0],[-1,0]]\n",
    "sampleSize = 100\n",
    "x,y=generateSamples(sampleSize)\n",
    "thetas = generateThetas()\n",
    "thetas"
   ]
  },
  {
   "cell_type": "code",
   "execution_count": 3,
   "metadata": {},
   "outputs": [],
   "source": [
    "trial = thetas.copy()"
   ]
  },
  {
   "cell_type": "code",
   "execution_count": 4,
   "metadata": {},
   "outputs": [
    {
     "name": "stdout",
     "output_type": "stream",
     "text": [
      "<class 'numpy.ndarray'>\n",
      "<class 'numpy.ndarray'>\n",
      "<class 'numpy.ndarray'>\n",
      "<class 'numpy.ndarray'>\n",
      "<class 'numpy.ndarray'>\n"
     ]
    }
   ],
   "source": [
    "deltaAll = 0\n",
    "for i in range(0,5):\n",
    "    delta, z, ans = trainEpoch(x,y,trial,directions)\n",
    "    trial += delta\n",
    "    print(type(delta))"
   ]
  },
  {
   "cell_type": "code",
   "execution_count": 5,
   "metadata": {},
   "outputs": [
    {
     "name": "stdout",
     "output_type": "stream",
     "text": [
      "[[ 0.680981   -0.36809976]\n",
      " [-0.81912939  0.30360335]]\n"
     ]
    }
   ],
   "source": [
    "print(trial)"
   ]
  },
  {
   "cell_type": "code",
   "execution_count": 6,
   "metadata": {},
   "outputs": [
    {
     "name": "stdout",
     "output_type": "stream",
     "text": [
      "[0.70159648 0.29840352]\n",
      "[1 0]\n",
      "[0.42698335 0.57301665]\n",
      "[0 1]\n",
      "[0.4701985 0.5298015]\n",
      "[0 1]\n",
      "[0.64135357 0.35864643]\n",
      "[1 0]\n",
      "[0.71668807 0.28331193]\n",
      "[1 0]\n",
      "[0.53943572 0.46056428]\n",
      "[1 0]\n",
      "[0.37302852 0.62697148]\n",
      "[0 1]\n",
      "[0.26593768 0.73406232]\n",
      "[0 1]\n",
      "[0.24032045 0.75967955]\n",
      "[0 1]\n",
      "[0.47698932 0.52301068]\n",
      "[0 1]\n"
     ]
    }
   ],
   "source": [
    "for i in range(0,10):\n",
    "    print(softmax(z[i]))\n",
    "    print(ans[i])"
   ]
  },
  {
   "cell_type": "code",
   "execution_count": 7,
   "metadata": {},
   "outputs": [
    {
     "data": {
      "text/plain": [
       "0"
      ]
     },
     "execution_count": 7,
     "metadata": {},
     "output_type": "execute_result"
    }
   ],
   "source": [
    "np.argmax(z[0])"
   ]
  },
  {
   "cell_type": "code",
   "execution_count": 8,
   "metadata": {},
   "outputs": [
    {
     "name": "stdout",
     "output_type": "stream",
     "text": [
      "[-0.14137238  0.1772526 ]\n",
      "[1.85862762 2.1772526 ]\n"
     ]
    }
   ],
   "source": [
    "xy = np.column_stack((x,y))\n",
    "print(xy[1])\n",
    "print(xy[1]+2)"
   ]
  },
  {
   "cell_type": "code",
   "execution_count": 10,
   "metadata": {},
   "outputs": [
    {
     "name": "stdout",
     "output_type": "stream",
     "text": [
      "<class 'numpy.ndarray'>\n"
     ]
    }
   ],
   "source": [
    "print(type(x))"
   ]
  }
 ],
 "metadata": {
  "kernelspec": {
   "display_name": "Python 3",
   "language": "python",
   "name": "python3"
  },
  "language_info": {
   "codemirror_mode": {
    "name": "ipython",
    "version": 3
   },
   "file_extension": ".py",
   "mimetype": "text/x-python",
   "name": "python",
   "nbconvert_exporter": "python",
   "pygments_lexer": "ipython3",
   "version": "3.7.4"
  }
 },
 "nbformat": 4,
 "nbformat_minor": 2
}
