{
 "cells": [
  {
   "cell_type": "code",
   "execution_count": 1,
   "metadata": {},
   "outputs": [
    {
     "name": "stderr",
     "output_type": "stream",
     "text": [
      "Using TensorFlow backend.\n"
     ]
    }
   ],
   "source": [
    "from generateFunctions import generateSamples, generateAnswer, generateThetas, trainOne, trainEpoch\n",
    "from generateFunctions import testModel\n",
    "from scipy.special import softmax\n",
    "import numpy as np"
   ]
  },
  {
   "cell_type": "code",
   "execution_count": 2,
   "metadata": {},
   "outputs": [
    {
     "data": {
      "text/plain": [
       "array([[-0.20395232, -0.26755951],\n",
       "       [ 0.34815265, -0.23496912]])"
      ]
     },
     "execution_count": 2,
     "metadata": {},
     "output_type": "execute_result"
    }
   ],
   "source": [
    "directions = [[1,0],[-1,0]]\n",
    "sampleSize = 5000\n",
    "x,y=generateSamples(sampleSize)\n",
    "thetas = generateThetas()\n",
    "thetas"
   ]
  },
  {
   "cell_type": "code",
   "execution_count": 3,
   "metadata": {},
   "outputs": [],
   "source": [
    "trial = thetas.copy()"
   ]
  },
  {
   "cell_type": "code",
   "execution_count": 4,
   "metadata": {},
   "outputs": [],
   "source": [
    "deltaAll = 0\n",
    "for i in range(0,20):\n",
    "    delta, z, ans = trainEpoch(x,y,trial,directions)\n",
    "    trial += delta"
   ]
  },
  {
   "cell_type": "code",
   "execution_count": 5,
   "metadata": {},
   "outputs": [
    {
     "name": "stdout",
     "output_type": "stream",
     "text": [
      "[[ 1.94214234 -0.27567827]\n",
      " [-1.79794201 -0.22685036]]\n"
     ]
    }
   ],
   "source": [
    "print(trial)"
   ]
  },
  {
   "cell_type": "code",
   "execution_count": 6,
   "metadata": {},
   "outputs": [
    {
     "name": "stdout",
     "output_type": "stream",
     "text": [
      "[0.58212629 0.41787371]\n",
      "[1 0]\n",
      "[0.50285387 0.49714613]\n",
      "[1 0]\n",
      "[0.15231212 0.84768788]\n",
      "[0 1]\n",
      "[0.34980562 0.65019438]\n",
      "[0 1]\n",
      "[0.91495277 0.08504723]\n",
      "[1 0]\n",
      "[0.08844181 0.91155819]\n",
      "[0 1]\n",
      "[0.84807834 0.15192166]\n",
      "[1 0]\n",
      "[0.66944547 0.33055453]\n",
      "[1 0]\n",
      "[0.82235922 0.17764078]\n",
      "[1 0]\n",
      "[0.8793377 0.1206623]\n",
      "[1 0]\n"
     ]
    }
   ],
   "source": [
    "for i in range(0,10):\n",
    "    print(softmax(z[i]))\n",
    "    print(ans[i])"
   ]
  },
  {
   "cell_type": "code",
   "execution_count": 7,
   "metadata": {},
   "outputs": [
    {
     "data": {
      "text/plain": [
       "0"
      ]
     },
     "execution_count": 7,
     "metadata": {},
     "output_type": "execute_result"
    }
   ],
   "source": [
    "np.argmax(z[0])"
   ]
  },
  {
   "cell_type": "code",
   "execution_count": 8,
   "metadata": {},
   "outputs": [
    {
     "name": "stdout",
     "output_type": "stream",
     "text": [
      "[ 0.00208547 -0.07993595]\n",
      "[2.00208547 1.92006405]\n"
     ]
    }
   ],
   "source": [
    "xy = np.column_stack((x,y))\n",
    "print(xy[1])\n",
    "print(xy[1]+2)"
   ]
  },
  {
   "cell_type": "code",
   "execution_count": 10,
   "metadata": {},
   "outputs": [
    {
     "data": {
      "text/plain": [
       "0.9966"
      ]
     },
     "execution_count": 10,
     "metadata": {},
     "output_type": "execute_result"
    }
   ],
   "source": [
    "a = testModel(x,y,trial,directions)\n",
    "a"
   ]
  }
 ],
 "metadata": {
  "kernelspec": {
   "display_name": "Python 3",
   "language": "python",
   "name": "python3"
  },
  "language_info": {
   "codemirror_mode": {
    "name": "ipython",
    "version": 3
   },
   "file_extension": ".py",
   "mimetype": "text/x-python",
   "name": "python",
   "nbconvert_exporter": "python",
   "pygments_lexer": "ipython3",
   "version": "3.7.4"
  }
 },
 "nbformat": 4,
 "nbformat_minor": 2
}
