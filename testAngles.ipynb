{
 "cells": [
  {
   "cell_type": "code",
   "execution_count": 1,
   "metadata": {},
   "outputs": [
    {
     "name": "stderr",
     "output_type": "stream",
     "text": [
      "Using TensorFlow backend.\n"
     ]
    }
   ],
   "source": [
    "from generateFunctions import generateSamples, generateAnswer, generateThetas, trainOne, unit_vector, angle_between\n",
    "from scipy.special import softmax\n",
    "import numpy as np"
   ]
  },
  {
   "cell_type": "code",
   "execution_count": 2,
   "metadata": {},
   "outputs": [
    {
     "name": "stdout",
     "output_type": "stream",
     "text": [
      "0.8003224283875334\n",
      "2.3412702252022597\n"
     ]
    }
   ],
   "source": [
    "a = angle_between([\t-0.68,0.66],[0,1])\n",
    "b = angle_between([\t-0.68,0.66],[0,-1])\n",
    "print(a)\n",
    "print(b)"
   ]
  },
  {
   "cell_type": "code",
   "execution_count": 3,
   "metadata": {},
   "outputs": [
    {
     "data": {
      "text/plain": [
       "[1, 0]"
      ]
     },
     "execution_count": 3,
     "metadata": {},
     "output_type": "execute_result"
    }
   ],
   "source": [
    "angles = [a,b]\n",
    "minAngle = min(angles)\n",
    "index = angles.index(minAngle)\n",
    "\n",
    "if index == 0:\n",
    "    answer = [1,0]\n",
    "elif index == 1:\n",
    "    answer = [0,1]\n",
    "answer"
   ]
  },
  {
   "cell_type": "code",
   "execution_count": 4,
   "metadata": {},
   "outputs": [
    {
     "name": "stdout",
     "output_type": "stream",
     "text": [
      "2.6348305896446957\n",
      "3.0335450490155806\n"
     ]
    },
    {
     "data": {
      "text/plain": [
       "[1, 0]"
      ]
     },
     "execution_count": 4,
     "metadata": {},
     "output_type": "execute_result"
    }
   ],
   "source": [
    "a = angle_between([\t-0.68,0.66],[1.00,-0.27])\n",
    "b = angle_between([\t-0.68,0.66],[0.50,-0.39])\n",
    "print(a)\n",
    "print(b)\n",
    "angles = [a,b]\n",
    "minAngle = min(angles)\n",
    "index = angles.index(minAngle)\n",
    "\n",
    "if index == 0:\n",
    "    answer = [1,0]\n",
    "elif index == 1:\n",
    "    answer = [0,1]\n",
    "answer"
   ]
  },
  {
   "cell_type": "code",
   "execution_count": null,
   "metadata": {},
   "outputs": [],
   "source": []
  }
 ],
 "metadata": {
  "kernelspec": {
   "display_name": "Python 3",
   "language": "python",
   "name": "python3"
  },
  "language_info": {
   "codemirror_mode": {
    "name": "ipython",
    "version": 3
   },
   "file_extension": ".py",
   "mimetype": "text/x-python",
   "name": "python",
   "nbconvert_exporter": "python",
   "pygments_lexer": "ipython3",
   "version": "3.7.4"
  }
 },
 "nbformat": 4,
 "nbformat_minor": 2
}
